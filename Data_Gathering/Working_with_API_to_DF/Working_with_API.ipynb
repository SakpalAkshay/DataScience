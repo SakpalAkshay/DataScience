{
 "cells": [
  {
   "cell_type": "code",
   "execution_count": 1,
   "id": "9c9f2414-bcfd-46cd-825c-47a49c5e3733",
   "metadata": {},
   "outputs": [],
   "source": [
    "import pandas as pd\n",
    "import requests"
   ]
  },
  {
   "cell_type": "code",
   "execution_count": 20,
   "id": "99d931ec-82de-4f30-a876-85aac23a182d",
   "metadata": {},
   "outputs": [],
   "source": [
    "response = requests.get('https://api.themoviedb.org/3/movie/top_rated?api_key=8265bd1679663a7ea12ac168da84d2e8&language=en-US&page=1')"
   ]
  },
  {
   "cell_type": "code",
   "execution_count": 21,
   "id": "51b579ae-e83f-4e6e-b3b9-a2561bb90a46",
   "metadata": {},
   "outputs": [
    {
     "data": {
      "text/plain": [
       "(20, 14)"
      ]
     },
     "execution_count": 21,
     "metadata": {},
     "output_type": "execute_result"
    }
   ],
   "source": [
    "pd.DataFrame(response.json()['results']).shape"
   ]
  },
  {
   "cell_type": "code",
   "execution_count": 22,
   "id": "ee89575f-7982-452c-a712-be02fa127fed",
   "metadata": {},
   "outputs": [],
   "source": [
    "# now from the JSON data we will create a dataframe\n",
    "temp_df = pd.DataFrame(response.json()['results'])[['id','title','overview','release_date','popularity','vote_average','vote_count']]"
   ]
  },
  {
   "cell_type": "code",
   "execution_count": 23,
   "id": "d50d673b-8568-4bd9-835c-ae9142bb2416",
   "metadata": {},
   "outputs": [
    {
     "data": {
      "text/html": [
       "<div>\n",
       "<style scoped>\n",
       "    .dataframe tbody tr th:only-of-type {\n",
       "        vertical-align: middle;\n",
       "    }\n",
       "\n",
       "    .dataframe tbody tr th {\n",
       "        vertical-align: top;\n",
       "    }\n",
       "\n",
       "    .dataframe thead th {\n",
       "        text-align: right;\n",
       "    }\n",
       "</style>\n",
       "<table border=\"1\" class=\"dataframe\">\n",
       "  <thead>\n",
       "    <tr style=\"text-align: right;\">\n",
       "      <th></th>\n",
       "      <th>id</th>\n",
       "      <th>title</th>\n",
       "      <th>overview</th>\n",
       "      <th>release_date</th>\n",
       "      <th>popularity</th>\n",
       "      <th>vote_average</th>\n",
       "      <th>vote_count</th>\n",
       "    </tr>\n",
       "  </thead>\n",
       "  <tbody>\n",
       "    <tr>\n",
       "      <th>0</th>\n",
       "      <td>278</td>\n",
       "      <td>The Shawshank Redemption</td>\n",
       "      <td>Imprisoned in the 1940s for the double murder ...</td>\n",
       "      <td>1994-09-23</td>\n",
       "      <td>162.501</td>\n",
       "      <td>8.704</td>\n",
       "      <td>26103</td>\n",
       "    </tr>\n",
       "    <tr>\n",
       "      <th>1</th>\n",
       "      <td>238</td>\n",
       "      <td>The Godfather</td>\n",
       "      <td>Spanning the years 1945 to 1955, a chronicle o...</td>\n",
       "      <td>1972-03-14</td>\n",
       "      <td>192.686</td>\n",
       "      <td>8.696</td>\n",
       "      <td>19786</td>\n",
       "    </tr>\n",
       "    <tr>\n",
       "      <th>2</th>\n",
       "      <td>240</td>\n",
       "      <td>The Godfather Part II</td>\n",
       "      <td>In the continuing saga of the Corleone crime f...</td>\n",
       "      <td>1974-12-20</td>\n",
       "      <td>148.349</td>\n",
       "      <td>8.577</td>\n",
       "      <td>11953</td>\n",
       "    </tr>\n",
       "    <tr>\n",
       "      <th>3</th>\n",
       "      <td>424</td>\n",
       "      <td>Schindler's List</td>\n",
       "      <td>The true story of how businessman Oskar Schind...</td>\n",
       "      <td>1993-12-15</td>\n",
       "      <td>113.543</td>\n",
       "      <td>8.567</td>\n",
       "      <td>15357</td>\n",
       "    </tr>\n",
       "    <tr>\n",
       "      <th>4</th>\n",
       "      <td>389</td>\n",
       "      <td>12 Angry Men</td>\n",
       "      <td>The defense and the prosecution have rested an...</td>\n",
       "      <td>1957-04-10</td>\n",
       "      <td>79.276</td>\n",
       "      <td>8.542</td>\n",
       "      <td>8226</td>\n",
       "    </tr>\n",
       "  </tbody>\n",
       "</table>\n",
       "</div>"
      ],
      "text/plain": [
       "    id                     title  \\\n",
       "0  278  The Shawshank Redemption   \n",
       "1  238             The Godfather   \n",
       "2  240     The Godfather Part II   \n",
       "3  424          Schindler's List   \n",
       "4  389              12 Angry Men   \n",
       "\n",
       "                                            overview release_date  popularity  \\\n",
       "0  Imprisoned in the 1940s for the double murder ...   1994-09-23     162.501   \n",
       "1  Spanning the years 1945 to 1955, a chronicle o...   1972-03-14     192.686   \n",
       "2  In the continuing saga of the Corleone crime f...   1974-12-20     148.349   \n",
       "3  The true story of how businessman Oskar Schind...   1993-12-15     113.543   \n",
       "4  The defense and the prosecution have rested an...   1957-04-10      79.276   \n",
       "\n",
       "   vote_average  vote_count  \n",
       "0         8.704       26103  \n",
       "1         8.696       19786  \n",
       "2         8.577       11953  \n",
       "3         8.567       15357  \n",
       "4         8.542        8226  "
      ]
     },
     "execution_count": 23,
     "metadata": {},
     "output_type": "execute_result"
    }
   ],
   "source": [
    "temp_df.head()"
   ]
  },
  {
   "cell_type": "code",
   "execution_count": 24,
   "id": "182c61f7-6d83-48bd-87f6-a09d94dd7c0a",
   "metadata": {},
   "outputs": [],
   "source": [
    "temp_df.to_csv('moviesfirstpage.csv')"
   ]
  },
  {
   "cell_type": "code",
   "execution_count": null,
   "id": "6ada648d-791f-4fa3-88d1-7e3b116a1e2c",
   "metadata": {},
   "outputs": [],
   "source": []
  },
  {
   "cell_type": "code",
   "execution_count": null,
   "id": "9ad8b36d-d036-4323-8355-86db401a2f9e",
   "metadata": {},
   "outputs": [],
   "source": [
    "#now we will create a dataframe across 7 columns for all the movies available\n",
    "#df = pd.DataFrame()\n",
    "#for i in range(1,429):\n",
    "    #response = requests.get('https://api.themoviedb.org/3/movie/top_rated?api_key=8265bd1679663a7ea12ac168da84d2e8&language=en-US&page={}'.format(i))\n",
    "    #temp_df = pd.DataFrame(response.json()['results'])[['id','title','overview','release_date','popularity','vote_average','vote_count']]\n",
    "    #df = df._append(temp_df,ignore_index=True)\n",
    "\n",
    "#Dont Run PLOX"
   ]
  }
 ],
 "metadata": {
  "kernelspec": {
   "display_name": "Python 3 (ipykernel)",
   "language": "python",
   "name": "python3"
  },
  "language_info": {
   "codemirror_mode": {
    "name": "ipython",
    "version": 3
   },
   "file_extension": ".py",
   "mimetype": "text/x-python",
   "name": "python",
   "nbconvert_exporter": "python",
   "pygments_lexer": "ipython3",
   "version": "3.11.7"
  }
 },
 "nbformat": 4,
 "nbformat_minor": 5
}
