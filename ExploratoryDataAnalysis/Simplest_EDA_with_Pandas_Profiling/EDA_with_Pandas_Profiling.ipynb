{
 "cells": [
  {
   "cell_type": "code",
   "execution_count": 1,
   "id": "06ec7cce-b630-4e91-80d3-891aaf8848f0",
   "metadata": {},
   "outputs": [],
   "source": [
    "import pandas as pd\n",
    "import seaborn as sns"
   ]
  },
  {
   "cell_type": "code",
   "execution_count": 2,
   "id": "f9757738-1d9a-4abf-8dc7-ad186d373ca9",
   "metadata": {},
   "outputs": [],
   "source": [
    "df = sns.load_dataset('titanic')"
   ]
  },
  {
   "cell_type": "code",
   "execution_count": 3,
   "id": "93b1e2c6-8536-4ef1-bb76-650d2b23a65b",
   "metadata": {},
   "outputs": [
    {
     "data": {
      "text/html": [
       "<div>\n",
       "<style scoped>\n",
       "    .dataframe tbody tr th:only-of-type {\n",
       "        vertical-align: middle;\n",
       "    }\n",
       "\n",
       "    .dataframe tbody tr th {\n",
       "        vertical-align: top;\n",
       "    }\n",
       "\n",
       "    .dataframe thead th {\n",
       "        text-align: right;\n",
       "    }\n",
       "</style>\n",
       "<table border=\"1\" class=\"dataframe\">\n",
       "  <thead>\n",
       "    <tr style=\"text-align: right;\">\n",
       "      <th></th>\n",
       "      <th>survived</th>\n",
       "      <th>pclass</th>\n",
       "      <th>sex</th>\n",
       "      <th>age</th>\n",
       "      <th>sibsp</th>\n",
       "      <th>parch</th>\n",
       "      <th>fare</th>\n",
       "      <th>embarked</th>\n",
       "      <th>class</th>\n",
       "      <th>who</th>\n",
       "      <th>adult_male</th>\n",
       "      <th>deck</th>\n",
       "      <th>embark_town</th>\n",
       "      <th>alive</th>\n",
       "      <th>alone</th>\n",
       "    </tr>\n",
       "  </thead>\n",
       "  <tbody>\n",
       "    <tr>\n",
       "      <th>0</th>\n",
       "      <td>0</td>\n",
       "      <td>3</td>\n",
       "      <td>male</td>\n",
       "      <td>22.0</td>\n",
       "      <td>1</td>\n",
       "      <td>0</td>\n",
       "      <td>7.2500</td>\n",
       "      <td>S</td>\n",
       "      <td>Third</td>\n",
       "      <td>man</td>\n",
       "      <td>True</td>\n",
       "      <td>NaN</td>\n",
       "      <td>Southampton</td>\n",
       "      <td>no</td>\n",
       "      <td>False</td>\n",
       "    </tr>\n",
       "    <tr>\n",
       "      <th>1</th>\n",
       "      <td>1</td>\n",
       "      <td>1</td>\n",
       "      <td>female</td>\n",
       "      <td>38.0</td>\n",
       "      <td>1</td>\n",
       "      <td>0</td>\n",
       "      <td>71.2833</td>\n",
       "      <td>C</td>\n",
       "      <td>First</td>\n",
       "      <td>woman</td>\n",
       "      <td>False</td>\n",
       "      <td>C</td>\n",
       "      <td>Cherbourg</td>\n",
       "      <td>yes</td>\n",
       "      <td>False</td>\n",
       "    </tr>\n",
       "    <tr>\n",
       "      <th>2</th>\n",
       "      <td>1</td>\n",
       "      <td>3</td>\n",
       "      <td>female</td>\n",
       "      <td>26.0</td>\n",
       "      <td>0</td>\n",
       "      <td>0</td>\n",
       "      <td>7.9250</td>\n",
       "      <td>S</td>\n",
       "      <td>Third</td>\n",
       "      <td>woman</td>\n",
       "      <td>False</td>\n",
       "      <td>NaN</td>\n",
       "      <td>Southampton</td>\n",
       "      <td>yes</td>\n",
       "      <td>True</td>\n",
       "    </tr>\n",
       "    <tr>\n",
       "      <th>3</th>\n",
       "      <td>1</td>\n",
       "      <td>1</td>\n",
       "      <td>female</td>\n",
       "      <td>35.0</td>\n",
       "      <td>1</td>\n",
       "      <td>0</td>\n",
       "      <td>53.1000</td>\n",
       "      <td>S</td>\n",
       "      <td>First</td>\n",
       "      <td>woman</td>\n",
       "      <td>False</td>\n",
       "      <td>C</td>\n",
       "      <td>Southampton</td>\n",
       "      <td>yes</td>\n",
       "      <td>False</td>\n",
       "    </tr>\n",
       "    <tr>\n",
       "      <th>4</th>\n",
       "      <td>0</td>\n",
       "      <td>3</td>\n",
       "      <td>male</td>\n",
       "      <td>35.0</td>\n",
       "      <td>0</td>\n",
       "      <td>0</td>\n",
       "      <td>8.0500</td>\n",
       "      <td>S</td>\n",
       "      <td>Third</td>\n",
       "      <td>man</td>\n",
       "      <td>True</td>\n",
       "      <td>NaN</td>\n",
       "      <td>Southampton</td>\n",
       "      <td>no</td>\n",
       "      <td>True</td>\n",
       "    </tr>\n",
       "  </tbody>\n",
       "</table>\n",
       "</div>"
      ],
      "text/plain": [
       "   survived  pclass     sex   age  sibsp  parch     fare embarked  class  \\\n",
       "0         0       3    male  22.0      1      0   7.2500        S  Third   \n",
       "1         1       1  female  38.0      1      0  71.2833        C  First   \n",
       "2         1       3  female  26.0      0      0   7.9250        S  Third   \n",
       "3         1       1  female  35.0      1      0  53.1000        S  First   \n",
       "4         0       3    male  35.0      0      0   8.0500        S  Third   \n",
       "\n",
       "     who  adult_male deck  embark_town alive  alone  \n",
       "0    man        True  NaN  Southampton    no  False  \n",
       "1  woman       False    C    Cherbourg   yes  False  \n",
       "2  woman       False  NaN  Southampton   yes   True  \n",
       "3  woman       False    C  Southampton   yes  False  \n",
       "4    man        True  NaN  Southampton    no   True  "
      ]
     },
     "execution_count": 3,
     "metadata": {},
     "output_type": "execute_result"
    }
   ],
   "source": [
    "df.head()"
   ]
  },
  {
   "cell_type": "markdown",
   "id": "f6e8d768-5ff0-4a1a-b0e0-5e03ce2f6767",
   "metadata": {},
   "source": [
    "### Install Pandas Profiling"
   ]
  },
  {
   "cell_type": "code",
   "execution_count": 5,
   "id": "7ed9b814-bf72-44b2-8ff2-dc3f3ee45f71",
   "metadata": {},
   "outputs": [
    {
     "name": "stdout",
     "output_type": "stream",
     "text": [
      "Requirement already satisfied: ydata_profiling==4.6.0 in /opt/anaconda3/lib/python3.11/site-packages (4.6.0)\n",
      "Requirement already satisfied: scipy<1.12,>=1.4.1 in /opt/anaconda3/lib/python3.11/site-packages (from ydata_profiling==4.6.0) (1.11.4)\n",
      "Requirement already satisfied: pandas!=1.4.0,<2.1,>1.1 in /opt/anaconda3/lib/python3.11/site-packages (from ydata_profiling==4.6.0) (2.0.3)\n",
      "Requirement already satisfied: matplotlib<=3.7.3,>=3.2 in /opt/anaconda3/lib/python3.11/site-packages (from ydata_profiling==4.6.0) (3.7.3)\n",
      "Requirement already satisfied: pydantic<2,>=1.8.1 in /opt/anaconda3/lib/python3.11/site-packages (from ydata_profiling==4.6.0) (1.10.15)\n",
      "Requirement already satisfied: PyYAML<6.1,>=5.0.0 in /opt/anaconda3/lib/python3.11/site-packages (from ydata_profiling==4.6.0) (6.0.1)\n",
      "Requirement already satisfied: jinja2<3.2,>=2.11.1 in /opt/anaconda3/lib/python3.11/site-packages (from ydata_profiling==4.6.0) (3.1.2)\n",
      "Requirement already satisfied: visions==0.7.5 in /opt/anaconda3/lib/python3.11/site-packages (from visions[type_image_path]==0.7.5->ydata_profiling==4.6.0) (0.7.5)\n",
      "Requirement already satisfied: numpy<1.26,>=1.16.0 in /opt/anaconda3/lib/python3.11/site-packages (from ydata_profiling==4.6.0) (1.25.2)\n",
      "Requirement already satisfied: htmlmin==0.1.12 in /opt/anaconda3/lib/python3.11/site-packages (from ydata_profiling==4.6.0) (0.1.12)\n",
      "Requirement already satisfied: phik<0.13,>=0.11.1 in /opt/anaconda3/lib/python3.11/site-packages (from ydata_profiling==4.6.0) (0.12.4)\n",
      "Requirement already satisfied: requests<3,>=2.24.0 in /opt/anaconda3/lib/python3.11/site-packages (from ydata_profiling==4.6.0) (2.31.0)\n",
      "Requirement already satisfied: tqdm<5,>=4.48.2 in /opt/anaconda3/lib/python3.11/site-packages (from ydata_profiling==4.6.0) (4.65.0)\n",
      "Requirement already satisfied: seaborn<0.13,>=0.10.1 in /opt/anaconda3/lib/python3.11/site-packages (from ydata_profiling==4.6.0) (0.12.2)\n",
      "Requirement already satisfied: multimethod<2,>=1.4 in /opt/anaconda3/lib/python3.11/site-packages (from ydata_profiling==4.6.0) (1.11.2)\n",
      "Requirement already satisfied: statsmodels<1,>=0.13.2 in /opt/anaconda3/lib/python3.11/site-packages (from ydata_profiling==4.6.0) (0.14.0)\n",
      "Requirement already satisfied: typeguard<5,>=4.1.2 in /opt/anaconda3/lib/python3.11/site-packages (from ydata_profiling==4.6.0) (4.2.1)\n",
      "Requirement already satisfied: imagehash==4.3.1 in /opt/anaconda3/lib/python3.11/site-packages (from ydata_profiling==4.6.0) (4.3.1)\n",
      "Requirement already satisfied: wordcloud>=1.9.1 in /opt/anaconda3/lib/python3.11/site-packages (from ydata_profiling==4.6.0) (1.9.3)\n",
      "Requirement already satisfied: dacite>=1.8 in /opt/anaconda3/lib/python3.11/site-packages (from ydata_profiling==4.6.0) (1.8.1)\n",
      "Requirement already satisfied: numba<0.59.0,>=0.56.0 in /opt/anaconda3/lib/python3.11/site-packages (from ydata_profiling==4.6.0) (0.58.1)\n",
      "Requirement already satisfied: PyWavelets in /opt/anaconda3/lib/python3.11/site-packages (from imagehash==4.3.1->ydata_profiling==4.6.0) (1.5.0)\n",
      "Requirement already satisfied: pillow in /opt/anaconda3/lib/python3.11/site-packages (from imagehash==4.3.1->ydata_profiling==4.6.0) (10.2.0)\n",
      "Requirement already satisfied: attrs>=19.3.0 in /opt/anaconda3/lib/python3.11/site-packages (from visions==0.7.5->visions[type_image_path]==0.7.5->ydata_profiling==4.6.0) (23.1.0)\n",
      "Requirement already satisfied: networkx>=2.4 in /opt/anaconda3/lib/python3.11/site-packages (from visions==0.7.5->visions[type_image_path]==0.7.5->ydata_profiling==4.6.0) (3.1)\n",
      "Requirement already satisfied: tangled-up-in-unicode>=0.0.4 in /opt/anaconda3/lib/python3.11/site-packages (from visions==0.7.5->visions[type_image_path]==0.7.5->ydata_profiling==4.6.0) (0.2.0)\n",
      "Requirement already satisfied: MarkupSafe>=2.0 in /opt/anaconda3/lib/python3.11/site-packages (from jinja2<3.2,>=2.11.1->ydata_profiling==4.6.0) (2.1.3)\n",
      "Requirement already satisfied: contourpy>=1.0.1 in /opt/anaconda3/lib/python3.11/site-packages (from matplotlib<=3.7.3,>=3.2->ydata_profiling==4.6.0) (1.2.0)\n",
      "Requirement already satisfied: cycler>=0.10 in /opt/anaconda3/lib/python3.11/site-packages (from matplotlib<=3.7.3,>=3.2->ydata_profiling==4.6.0) (0.11.0)\n",
      "Requirement already satisfied: fonttools>=4.22.0 in /opt/anaconda3/lib/python3.11/site-packages (from matplotlib<=3.7.3,>=3.2->ydata_profiling==4.6.0) (4.25.0)\n",
      "Requirement already satisfied: kiwisolver>=1.0.1 in /opt/anaconda3/lib/python3.11/site-packages (from matplotlib<=3.7.3,>=3.2->ydata_profiling==4.6.0) (1.4.4)\n",
      "Requirement already satisfied: packaging>=20.0 in /opt/anaconda3/lib/python3.11/site-packages (from matplotlib<=3.7.3,>=3.2->ydata_profiling==4.6.0) (23.1)\n",
      "Requirement already satisfied: pyparsing>=2.3.1 in /opt/anaconda3/lib/python3.11/site-packages (from matplotlib<=3.7.3,>=3.2->ydata_profiling==4.6.0) (3.0.9)\n",
      "Requirement already satisfied: python-dateutil>=2.7 in /opt/anaconda3/lib/python3.11/site-packages (from matplotlib<=3.7.3,>=3.2->ydata_profiling==4.6.0) (2.8.2)\n",
      "Requirement already satisfied: llvmlite<0.42,>=0.41.0dev0 in /opt/anaconda3/lib/python3.11/site-packages (from numba<0.59.0,>=0.56.0->ydata_profiling==4.6.0) (0.41.1)\n",
      "Requirement already satisfied: pytz>=2020.1 in /opt/anaconda3/lib/python3.11/site-packages (from pandas!=1.4.0,<2.1,>1.1->ydata_profiling==4.6.0) (2023.3.post1)\n",
      "Requirement already satisfied: tzdata>=2022.1 in /opt/anaconda3/lib/python3.11/site-packages (from pandas!=1.4.0,<2.1,>1.1->ydata_profiling==4.6.0) (2023.3)\n",
      "Requirement already satisfied: joblib>=0.14.1 in /opt/anaconda3/lib/python3.11/site-packages (from phik<0.13,>=0.11.1->ydata_profiling==4.6.0) (1.1.1)\n",
      "Requirement already satisfied: typing-extensions>=4.2.0 in /opt/anaconda3/lib/python3.11/site-packages (from pydantic<2,>=1.8.1->ydata_profiling==4.6.0) (4.11.0)\n",
      "Requirement already satisfied: charset-normalizer<4,>=2 in /opt/anaconda3/lib/python3.11/site-packages (from requests<3,>=2.24.0->ydata_profiling==4.6.0) (3.3.1)\n",
      "Requirement already satisfied: idna<4,>=2.5 in /opt/anaconda3/lib/python3.11/site-packages (from requests<3,>=2.24.0->ydata_profiling==4.6.0) (3.4)\n",
      "Requirement already satisfied: urllib3<3,>=1.21.1 in /opt/anaconda3/lib/python3.11/site-packages (from requests<3,>=2.24.0->ydata_profiling==4.6.0) (2.0.7)\n",
      "Requirement already satisfied: certifi>=2017.4.17 in /opt/anaconda3/lib/python3.11/site-packages (from requests<3,>=2.24.0->ydata_profiling==4.6.0) (2023.7.22)\n",
      "Requirement already satisfied: patsy>=0.5.2 in /opt/anaconda3/lib/python3.11/site-packages (from statsmodels<1,>=0.13.2->ydata_profiling==4.6.0) (0.5.3)\n",
      "Requirement already satisfied: six in /opt/anaconda3/lib/python3.11/site-packages (from patsy>=0.5.2->statsmodels<1,>=0.13.2->ydata_profiling==4.6.0) (1.16.0)\n"
     ]
    }
   ],
   "source": [
    "! pip install ydata_profiling==4.6.0"
   ]
  },
  {
   "cell_type": "code",
   "execution_count": 6,
   "id": "136f3a0f-2c29-4fb4-a095-b48a46a98282",
   "metadata": {},
   "outputs": [
    {
     "data": {
      "application/vnd.jupyter.widget-view+json": {
       "model_id": "dcc583448c42404c931893b0b0ac56ee",
       "version_major": 2,
       "version_minor": 0
      },
      "text/plain": [
       "Summarize dataset:   0%|          | 0/5 [00:00<?, ?it/s]"
      ]
     },
     "metadata": {},
     "output_type": "display_data"
    },
    {
     "data": {
      "application/vnd.jupyter.widget-view+json": {
       "model_id": "a223bf71bf8148c6bb8194e8d62f92b6",
       "version_major": 2,
       "version_minor": 0
      },
      "text/plain": [
       "Generate report structure:   0%|          | 0/1 [00:00<?, ?it/s]"
      ]
     },
     "metadata": {},
     "output_type": "display_data"
    },
    {
     "data": {
      "application/vnd.jupyter.widget-view+json": {
       "model_id": "f3299a31ff0e4818af79aa6b804952ae",
       "version_major": 2,
       "version_minor": 0
      },
      "text/plain": [
       "Render HTML:   0%|          | 0/1 [00:00<?, ?it/s]"
      ]
     },
     "metadata": {},
     "output_type": "display_data"
    },
    {
     "data": {
      "application/vnd.jupyter.widget-view+json": {
       "model_id": "665d847d59f84eb194f9acec3ebdd7a6",
       "version_major": 2,
       "version_minor": 0
      },
      "text/plain": [
       "Export report to file:   0%|          | 0/1 [00:00<?, ?it/s]"
      ]
     },
     "metadata": {},
     "output_type": "display_data"
    }
   ],
   "source": [
    "from ydata_profiling import ProfileReport\n",
    "prof = ProfileReport(df)\n",
    "prof.to_file(output_file='output.html')"
   ]
  },
  {
   "cell_type": "code",
   "execution_count": null,
   "id": "222d02b3-ca7a-4cbd-b8c7-8d62c510f848",
   "metadata": {},
   "outputs": [],
   "source": []
  }
 ],
 "metadata": {
  "kernelspec": {
   "display_name": "Python 3 (ipykernel)",
   "language": "python",
   "name": "python3"
  },
  "language_info": {
   "codemirror_mode": {
    "name": "ipython",
    "version": 3
   },
   "file_extension": ".py",
   "mimetype": "text/x-python",
   "name": "python",
   "nbconvert_exporter": "python",
   "pygments_lexer": "ipython3",
   "version": "3.11.7"
  }
 },
 "nbformat": 4,
 "nbformat_minor": 5
}
